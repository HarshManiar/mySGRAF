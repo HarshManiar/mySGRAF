{
  "nbformat": 4,
  "nbformat_minor": 0,
  "metadata": {
    "colab": {
      "provenance": [],
      "machine_shape": "hm"
    },
    "kernelspec": {
      "name": "python3",
      "display_name": "Python 3"
    },
    "language_info": {
      "name": "python"
    },
    "gpuClass": "premium",
    "accelerator": "GPU"
  },
  "cells": [
    {
      "cell_type": "code",
      "execution_count": null,
      "metadata": {
        "colab": {
          "base_uri": "https://localhost:8080/"
        },
        "id": "HlTsFmIJ6Amt",
        "outputId": "ad663b68-b24b-437d-8d84-8f16e20a2f21"
      },
      "outputs": [
        {
          "output_type": "stream",
          "name": "stdout",
          "text": [
            "Archive:  /content/drive/MyDrive/SGRAF-python3.6.zip\n",
            "   creating: /content/SGRAF-python3.6/\n",
            "  inflating: /content/__MACOSX/._SGRAF-python3.6  \n",
            "  inflating: /content/SGRAF-python3.6/vocab.py  \n",
            "  inflating: /content/__MACOSX/SGRAF-python3.6/._vocab.py  \n",
            "  inflating: /content/SGRAF-python3.6/.DS_Store  \n",
            "  inflating: /content/__MACOSX/SGRAF-python3.6/._.DS_Store  \n",
            "   creating: /content/SGRAF-python3.6/baseline_evaluation/\n",
            "  inflating: /content/__MACOSX/SGRAF-python3.6/._baseline_evaluation  \n",
            "   creating: /content/SGRAF-python3.6/fig/\n",
            "  inflating: /content/__MACOSX/SGRAF-python3.6/._fig  \n",
            "  inflating: /content/SGRAF-python3.6/requirements.txt  \n",
            "  inflating: /content/__MACOSX/SGRAF-python3.6/._requirements.txt  \n",
            "   creating: /content/SGRAF-python3.6/SGR_run/\n",
            "  inflating: /content/__MACOSX/SGRAF-python3.6/._SGR_run  \n",
            "  inflating: /content/SGRAF-python3.6/evaluation.py  \n",
            "  inflating: /content/__MACOSX/SGRAF-python3.6/._evaluation.py  \n",
            "   creating: /content/SGRAF-python3.6/vocab/\n",
            "  inflating: /content/__MACOSX/SGRAF-python3.6/._vocab  \n",
            "   creating: /content/SGRAF-python3.6/SAF_run/\n",
            "  inflating: /content/__MACOSX/SGRAF-python3.6/._SAF_run  \n",
            "  inflating: /content/SGRAF-python3.6/model.py  \n",
            "  inflating: /content/__MACOSX/SGRAF-python3.6/._model.py  \n",
            "  inflating: /content/SGRAF-python3.6/README.md  \n",
            "  inflating: /content/__MACOSX/SGRAF-python3.6/._README.md  \n",
            "  inflating: /content/SGRAF-python3.6/opts.py  \n",
            "  inflating: /content/__MACOSX/SGRAF-python3.6/._opts.py  \n",
            "  inflating: /content/SGRAF-python3.6/train.py  \n",
            "  inflating: /content/__MACOSX/SGRAF-python3.6/._train.py  \n",
            "   creating: /content/SGRAF-python3.6/data/\n",
            "  inflating: /content/__MACOSX/SGRAF-python3.6/._data  \n",
            "   creating: /content/SGRAF-python3.6/runs/\n",
            "  inflating: /content/__MACOSX/SGRAF-python3.6/._runs  \n",
            "  inflating: /content/SGRAF-python3.6/data.py  \n",
            "  inflating: /content/__MACOSX/SGRAF-python3.6/._data.py  \n",
            "  inflating: /content/SGRAF-python3.6/baseline_evaluation/f30k_SAF_base.txt  \n",
            "  inflating: /content/SGRAF-python3.6/baseline_evaluation/f30k_SGR_base.txt  \n",
            "  inflating: /content/SGRAF-python3.6/fig/model.png  \n",
            "  inflating: /content/__MACOSX/SGRAF-python3.6/fig/._model.png  \n",
            "  inflating: /content/SGRAF-python3.6/SGR_run/events.out.tfevents.1670489534.81cb1c5446b8  \n",
            "  inflating: /content/__MACOSX/SGRAF-python3.6/SGR_run/._events.out.tfevents.1670489534.81cb1c5446b8  \n",
            "  inflating: /content/SGRAF-python3.6/SGR_run/.DS_Store  \n",
            "  inflating: /content/__MACOSX/SGRAF-python3.6/SGR_run/._.DS_Store  \n",
            "  inflating: /content/SGRAF-python3.6/SGR_run/model_best.pth.tar  \n",
            "  inflating: /content/__MACOSX/SGRAF-python3.6/SGR_run/._model_best.pth.tar  \n",
            "  inflating: /content/SGRAF-python3.6/SGR_run/f30k_SGR_MINE.txt  \n",
            "  inflating: /content/__MACOSX/SGRAF-python3.6/SGR_run/._f30k_SGR_MINE.txt  \n",
            "  inflating: /content/SGRAF-python3.6/vocab/f30k_precomp_vocab.json  \n",
            "  inflating: /content/__MACOSX/SGRAF-python3.6/vocab/._f30k_precomp_vocab.json  \n",
            "  inflating: /content/SGRAF-python3.6/vocab/coco_precomp_vocab.json  \n",
            "  inflating: /content/__MACOSX/SGRAF-python3.6/vocab/._coco_precomp_vocab.json  \n",
            "  inflating: /content/SGRAF-python3.6/SAF_run/model_best.pth.tar  \n",
            "  inflating: /content/__MACOSX/SGRAF-python3.6/SAF_run/._model_best.pth.tar  \n",
            "  inflating: /content/SGRAF-python3.6/SAF_run/events.out.tfevents.1670546286.b4b25667d299  \n",
            "  inflating: /content/__MACOSX/SGRAF-python3.6/SAF_run/._events.out.tfevents.1670546286.b4b25667d299  \n",
            "  inflating: /content/SGRAF-python3.6/SAF_run/f30k_SAF_MINE.txt  \n",
            "  inflating: /content/__MACOSX/SGRAF-python3.6/SAF_run/._f30k_SAF_MINE.txt  \n",
            "  inflating: /content/SGRAF-python3.6/data/data.md  \n",
            "  inflating: /content/__MACOSX/SGRAF-python3.6/data/._data.md  \n",
            "  inflating: /content/SGRAF-python3.6/runs/runs.md  \n",
            "  inflating: /content/__MACOSX/SGRAF-python3.6/runs/._runs.md  \n"
          ]
        }
      ],
      "source": [
        "!unzip /content/drive/MyDrive/SGRAF-python3.6.zip -d /content/"
      ]
    },
    {
      "cell_type": "code",
      "source": [
        "!unzip /content/drive/MyDrive/Flickr30K_SGRAF.zip -d /content/SGRAF-python3.6/"
      ],
      "metadata": {
        "colab": {
          "base_uri": "https://localhost:8080/"
        },
        "id": "1H8UnQWj6kwU",
        "outputId": "39577afb-2f76-451e-9918-e0c72fdba027"
      },
      "execution_count": null,
      "outputs": [
        {
          "output_type": "stream",
          "name": "stdout",
          "text": [
            "Archive:  /content/drive/MyDrive/Flickr30K_SGRAF.zip\n",
            "   creating: /content/SGRAF-python3.6/Flickr30K_SGRAF/\n",
            "   creating: /content/SGRAF-python3.6/Flickr30K_SGRAF/f30k_SAF/\n",
            "  inflating: /content/SGRAF-python3.6/Flickr30K_SGRAF/f30k_SAF/events.out.tfevents.1611848209.ts-db2fa69b8d974259b51a105d1db747ab-launcher  \n",
            "  inflating: /content/SGRAF-python3.6/Flickr30K_SGRAF/f30k_SAF/model_best.pth.tar  \n",
            "   creating: /content/SGRAF-python3.6/Flickr30K_SGRAF/f30k_SGR/\n",
            "  inflating: /content/SGRAF-python3.6/Flickr30K_SGRAF/f30k_SGR/events.out.tfevents.1611847570.ts-ce9965c842c34ec0b8d716bde155e67d-launcher  \n",
            "  inflating: /content/SGRAF-python3.6/Flickr30K_SGRAF/f30k_SGR/model_best.pth.tar  \n"
          ]
        }
      ]
    },
    {
      "cell_type": "code",
      "source": [
        "!unzip /content/drive/MyDrive/data.zip -d /content/SGRAF-python3.6/data/\n",
        "!unzip /content/drive/MyDrive/vocab.zip -d /content/SGRAF-python3.6/data/\n",
        "!unzip /content/drive/MyDrive/Bert_data.zip -d /content/SGRAF-python3.6/data/\n",
        "!unzip /content/drive/MyDrive/bbox_data.zip -d /content/SGRAF-python3.6/data/"
      ],
      "metadata": {
        "colab": {
          "base_uri": "https://localhost:8080/"
        },
        "id": "Inf_3OiN7rcz",
        "outputId": "c7259d83-99f3-4daf-bccc-bc68dfe7f7ac"
      },
      "execution_count": null,
      "outputs": [
        {
          "output_type": "stream",
          "name": "stdout",
          "text": [
            "Archive:  /content/drive/MyDrive/data.zip\n",
            "   creating: /content/SGRAF-python3.6/data/data/\n",
            "  inflating: /content/SGRAF-python3.6/data/__MACOSX/._data  \n",
            "  inflating: /content/SGRAF-python3.6/data/data/.DS_Store  \n",
            "  inflating: /content/SGRAF-python3.6/data/__MACOSX/data/._.DS_Store  \n",
            "   creating: /content/SGRAF-python3.6/data/data/f30k_precomp/\n",
            "  inflating: /content/SGRAF-python3.6/data/__MACOSX/data/._f30k_precomp  \n",
            "  inflating: /content/SGRAF-python3.6/data/data/f30k_precomp/test_caps.txt  \n",
            "  inflating: /content/SGRAF-python3.6/data/__MACOSX/data/f30k_precomp/._test_caps.txt  \n",
            "  inflating: /content/SGRAF-python3.6/data/data/f30k_precomp/train_caps.txt  \n",
            "  inflating: /content/SGRAF-python3.6/data/__MACOSX/data/f30k_precomp/._train_caps.txt  \n",
            "  inflating: /content/SGRAF-python3.6/data/data/f30k_precomp/train_tags.txt  \n",
            "  inflating: /content/SGRAF-python3.6/data/__MACOSX/data/f30k_precomp/._train_tags.txt  \n",
            "  inflating: /content/SGRAF-python3.6/data/data/f30k_precomp/test_tags.txt  \n",
            "  inflating: /content/SGRAF-python3.6/data/__MACOSX/data/f30k_precomp/._test_tags.txt  \n",
            "  inflating: /content/SGRAF-python3.6/data/data/f30k_precomp/dev_tags.txt  \n",
            "  inflating: /content/SGRAF-python3.6/data/__MACOSX/data/f30k_precomp/._dev_tags.txt  \n",
            "  inflating: /content/SGRAF-python3.6/data/data/f30k_precomp/dev_ids.txt  \n",
            "  inflating: /content/SGRAF-python3.6/data/__MACOSX/data/f30k_precomp/._dev_ids.txt  \n",
            "  inflating: /content/SGRAF-python3.6/data/data/f30k_precomp/train_ids.txt  \n",
            "  inflating: /content/SGRAF-python3.6/data/__MACOSX/data/f30k_precomp/._train_ids.txt  \n",
            "  inflating: /content/SGRAF-python3.6/data/data/f30k_precomp/test_ids.txt  \n",
            "  inflating: /content/SGRAF-python3.6/data/__MACOSX/data/f30k_precomp/._test_ids.txt  \n",
            "  inflating: /content/SGRAF-python3.6/data/data/f30k_precomp/train_ims.npy  \n",
            "  inflating: /content/SGRAF-python3.6/data/__MACOSX/data/f30k_precomp/._train_ims.npy  \n",
            "  inflating: /content/SGRAF-python3.6/data/data/f30k_precomp/test_ims.npy  \n",
            "  inflating: /content/SGRAF-python3.6/data/__MACOSX/data/f30k_precomp/._test_ims.npy  \n",
            "  inflating: /content/SGRAF-python3.6/data/data/f30k_precomp/dev_ims.npy  \n",
            "  inflating: /content/SGRAF-python3.6/data/__MACOSX/data/f30k_precomp/._dev_ims.npy  \n",
            "  inflating: /content/SGRAF-python3.6/data/data/f30k_precomp/dev_caps.txt  \n",
            "  inflating: /content/SGRAF-python3.6/data/__MACOSX/data/f30k_precomp/._dev_caps.txt  \n",
            "Archive:  /content/drive/MyDrive/vocab.zip\n",
            "   creating: /content/SGRAF-python3.6/data/vocab/\n",
            "  inflating: /content/SGRAF-python3.6/data/__MACOSX/._vocab  \n",
            "  inflating: /content/SGRAF-python3.6/data/vocab/f30k_precomp_vocab.json  \n",
            "  inflating: /content/SGRAF-python3.6/data/__MACOSX/vocab/._f30k_precomp_vocab.json  \n",
            "  inflating: /content/SGRAF-python3.6/data/vocab/coco_precomp_vocab.json  \n",
            "  inflating: /content/SGRAF-python3.6/data/__MACOSX/vocab/._coco_precomp_vocab.json  \n",
            "Archive:  /content/drive/MyDrive/Bert_data.zip\n",
            "   creating: /content/SGRAF-python3.6/data/Bert_data/\n",
            "  inflating: /content/SGRAF-python3.6/data/__MACOSX/._Bert_data  \n",
            "  inflating: /content/SGRAF-python3.6/data/Bert_data/.DS_Store  \n",
            "  inflating: /content/SGRAF-python3.6/data/__MACOSX/Bert_data/._.DS_Store  \n",
            "   creating: /content/SGRAF-python3.6/data/Bert_data/f30k_precomp/\n",
            "  inflating: /content/SGRAF-python3.6/data/__MACOSX/Bert_data/._f30k_precomp  \n",
            "  inflating: /content/SGRAF-python3.6/data/Bert_data/f30k_precomp/test_bert_new.pickle  \n",
            "  inflating: /content/SGRAF-python3.6/data/__MACOSX/Bert_data/f30k_precomp/._test_bert_new.pickle  \n",
            "  inflating: /content/SGRAF-python3.6/data/Bert_data/f30k_precomp/train_bert_new.pickle  \n",
            "  inflating: /content/SGRAF-python3.6/data/__MACOSX/Bert_data/f30k_precomp/._train_bert_new.pickle  \n",
            "  inflating: /content/SGRAF-python3.6/data/Bert_data/f30k_precomp/dev_bert_new.pickle  \n",
            "  inflating: /content/SGRAF-python3.6/data/__MACOSX/Bert_data/f30k_precomp/._dev_bert_new.pickle  \n",
            "Archive:  /content/drive/MyDrive/bbox_data.zip\n",
            "   creating: /content/SGRAF-python3.6/data/bbox_data/\n",
            "  inflating: /content/SGRAF-python3.6/data/__MACOSX/._bbox_data  \n",
            "   creating: /content/SGRAF-python3.6/data/bbox_data/f30k_precomp/\n",
            "  inflating: /content/SGRAF-python3.6/data/__MACOSX/bbox_data/._f30k_precomp  \n",
            "   creating: /content/SGRAF-python3.6/data/bbox_data/coco_precomp/\n",
            "  inflating: /content/SGRAF-python3.6/data/__MACOSX/bbox_data/._coco_precomp  \n",
            "  inflating: /content/SGRAF-python3.6/data/bbox_data/f30k_precomp/dev_ims_bbx.npy  \n",
            "  inflating: /content/SGRAF-python3.6/data/__MACOSX/bbox_data/f30k_precomp/._dev_ims_bbx.npy  \n",
            "  inflating: /content/SGRAF-python3.6/data/bbox_data/f30k_precomp/test_ims_size.npy  \n",
            "  inflating: /content/SGRAF-python3.6/data/__MACOSX/bbox_data/f30k_precomp/._test_ims_size.npy  \n",
            "  inflating: /content/SGRAF-python3.6/data/bbox_data/f30k_precomp/test_ims_bbx.npy  \n",
            "  inflating: /content/SGRAF-python3.6/data/__MACOSX/bbox_data/f30k_precomp/._test_ims_bbx.npy  \n",
            "  inflating: /content/SGRAF-python3.6/data/bbox_data/f30k_precomp/train_ims_bbx.npy  \n",
            "  inflating: /content/SGRAF-python3.6/data/__MACOSX/bbox_data/f30k_precomp/._train_ims_bbx.npy  \n",
            "  inflating: /content/SGRAF-python3.6/data/bbox_data/f30k_precomp/dev_ims_size.npy  \n",
            "  inflating: /content/SGRAF-python3.6/data/__MACOSX/bbox_data/f30k_precomp/._dev_ims_size.npy  \n",
            "  inflating: /content/SGRAF-python3.6/data/bbox_data/f30k_precomp/train_ims_size.npy  \n",
            "  inflating: /content/SGRAF-python3.6/data/__MACOSX/bbox_data/f30k_precomp/._train_ims_size.npy  \n",
            "  inflating: /content/SGRAF-python3.6/data/bbox_data/coco_precomp/testall_ims_size.npy  \n",
            "  inflating: /content/SGRAF-python3.6/data/__MACOSX/bbox_data/coco_precomp/._testall_ims_size.npy  \n",
            "  inflating: /content/SGRAF-python3.6/data/bbox_data/coco_precomp/dev_ims_bbx.npy  \n",
            "  inflating: /content/SGRAF-python3.6/data/__MACOSX/bbox_data/coco_precomp/._dev_ims_bbx.npy  \n",
            "  inflating: /content/SGRAF-python3.6/data/bbox_data/coco_precomp/testall_ims_bbx.npy  \n",
            "  inflating: /content/SGRAF-python3.6/data/__MACOSX/bbox_data/coco_precomp/._testall_ims_bbx.npy  \n",
            "  inflating: /content/SGRAF-python3.6/data/bbox_data/coco_precomp/train_ims_bbx.npy  \n",
            "  inflating: /content/SGRAF-python3.6/data/__MACOSX/bbox_data/coco_precomp/._train_ims_bbx.npy  \n",
            "  inflating: /content/SGRAF-python3.6/data/bbox_data/coco_precomp/dev_ims_size.npy  \n",
            "  inflating: /content/SGRAF-python3.6/data/__MACOSX/bbox_data/coco_precomp/._dev_ims_size.npy  \n",
            "  inflating: /content/SGRAF-python3.6/data/bbox_data/coco_precomp/train_ims_size.npy  \n",
            "  inflating: /content/SGRAF-python3.6/data/__MACOSX/bbox_data/coco_precomp/._train_ims_size.npy  \n"
          ]
        }
      ]
    },
    {
      "cell_type": "code",
      "source": [
        "!pip install torch\n",
        "!pip install numpy\n",
        "!pip install tensorboard_logger"
      ],
      "metadata": {
        "colab": {
          "base_uri": "https://localhost:8080/"
        },
        "id": "BhFiLtwOGFIr",
        "outputId": "771d12d3-d449-438c-b9aa-0563f01aca46"
      },
      "execution_count": null,
      "outputs": [
        {
          "output_type": "stream",
          "name": "stdout",
          "text": [
            "Looking in indexes: https://pypi.org/simple, https://us-python.pkg.dev/colab-wheels/public/simple/\n",
            "Requirement already satisfied: torch in /usr/local/lib/python3.8/dist-packages (1.13.0+cu116)\n",
            "Requirement already satisfied: typing-extensions in /usr/local/lib/python3.8/dist-packages (from torch) (4.4.0)\n",
            "Looking in indexes: https://pypi.org/simple, https://us-python.pkg.dev/colab-wheels/public/simple/\n",
            "Requirement already satisfied: numpy in /usr/local/lib/python3.8/dist-packages (1.21.6)\n",
            "Looking in indexes: https://pypi.org/simple, https://us-python.pkg.dev/colab-wheels/public/simple/\n",
            "Collecting tensorboard_logger\n",
            "  Downloading tensorboard_logger-0.1.0-py2.py3-none-any.whl (17 kB)\n",
            "Requirement already satisfied: numpy in /usr/local/lib/python3.8/dist-packages (from tensorboard_logger) (1.21.6)\n",
            "Requirement already satisfied: scipy>=0.19.1 in /usr/local/lib/python3.8/dist-packages (from tensorboard_logger) (1.7.3)\n",
            "Requirement already satisfied: protobuf in /usr/local/lib/python3.8/dist-packages (from tensorboard_logger) (3.19.6)\n",
            "Requirement already satisfied: pillow>=4.1.1 in /usr/local/lib/python3.8/dist-packages (from tensorboard_logger) (7.1.2)\n",
            "Requirement already satisfied: six in /usr/local/lib/python3.8/dist-packages (from tensorboard_logger) (1.15.0)\n",
            "Installing collected packages: tensorboard-logger\n",
            "Successfully installed tensorboard-logger-0.1.0\n"
          ]
        }
      ]
    },
    {
      "cell_type": "code",
      "source": [
        "import nltk\n",
        "nltk.download('punkt')"
      ],
      "metadata": {
        "colab": {
          "base_uri": "https://localhost:8080/"
        },
        "id": "Nex6wmsYKLfX",
        "outputId": "6f8a5b0c-b393-4af2-8d87-16f6c3f57c80"
      },
      "execution_count": null,
      "outputs": [
        {
          "output_type": "stream",
          "name": "stderr",
          "text": [
            "[nltk_data] Downloading package punkt to /root/nltk_data...\n",
            "[nltk_data]   Unzipping tokenizers/punkt.zip.\n"
          ]
        },
        {
          "output_type": "execute_result",
          "data": {
            "text/plain": [
              "True"
            ]
          },
          "metadata": {},
          "execution_count": 5
        }
      ]
    },
    {
      "cell_type": "code",
      "source": [
        "import os\n",
        "os.chdir(\"/content/SGRAF-python3.6\")\n",
        "!mkdir final_eval\n",
        "#!mkdir SGR_checkpoint"
      ],
      "metadata": {
        "id": "CHIffMHDGW4w"
      },
      "execution_count": null,
      "outputs": []
    },
    {
      "cell_type": "code",
      "source": [
        "!python evaluation.py > ./final_eval/f30k_SAF_base.txt"
      ],
      "metadata": {
        "colab": {
          "base_uri": "https://localhost:8080/"
        },
        "id": "mBetYynd5KHQ",
        "outputId": "1d37f69c-8de3-4c6d-9459-9f451cb89c2c"
      },
      "execution_count": null,
      "outputs": [
        {
          "output_type": "stream",
          "name": "stdout",
          "text": [
            "tcmalloc: large alloc 1474560000 bytes == 0x8f764000 @  0x7fbfde2531e7 0x7fbf63a4814e 0x7fbf63aa18bf 0x7fbf63aa24ff 0x7fbf63b485cd 0x5d80be 0x5d8d8c 0x55ea20 0x55cd91 0x5d8941 0x49abe4 0x55cd91 0x5d8941 0x4997c7 0x5d8868 0x5da092 0x586de6 0x5d8cdf 0x55dc1e 0x55cd91 0x5d8941 0x4990ca 0x5d8868 0x4990ca 0x55d078 0x5d8941 0x49abe4 0x55cd91 0x55d743 0x642630 0x6426ae\n",
            "tcmalloc: large alloc 1474560000 bytes == 0xf03c8000 @  0x7fbfde255001 0x7fbf63a4822f 0x7fbf63aa068b 0x7fbf63aa14f7 0x7fbf63b43913 0x5aae14 0x4997c7 0x55cd91 0x5d8941 0x4990ca 0x55d078 0x5d8941 0x49abe4 0x55cd91 0x55d743 0x642630 0x6426ae 0x644b78 0x64511c 0x677e5e 0x678029 0x7fbfdde50c87 0x5e1baa\n",
            "tcmalloc: large alloc 3153920000 bytes == 0x7fbdc0030000 @  0x7fbfde255001 0x7fbf63a4822f 0x7fbf63aa068b 0x7fbf63aa14f7 0x7fbf63b43913 0x5aae14 0x4997c7 0x55cd91 0x5d8941 0x4990ca 0x55d078 0x5d8941 0x49abe4 0x55cd91 0x55d743 0x642630 0x6426ae 0x644b78 0x64511c 0x677e5e 0x678029 0x7fbfdde50c87 0x5e1baa\n"
          ]
        }
      ]
    },
    {
      "cell_type": "code",
      "source": [
        "!python evaluation.py > ./final_eval/f30k_SGR_base.txt"
      ],
      "metadata": {
        "colab": {
          "base_uri": "https://localhost:8080/"
        },
        "id": "q6Czc0KxIPrd",
        "outputId": "bcb2dab5-fab8-4f46-b817-89d641512ba2"
      },
      "execution_count": null,
      "outputs": [
        {
          "output_type": "stream",
          "name": "stdout",
          "text": [
            "tcmalloc: large alloc 1474560000 bytes == 0x90116000 @  0x7f969c6461e7 0x7f9621e3b14e 0x7f9621e948bf 0x7f9621e954ff 0x7f9621f3b5cd 0x5d80be 0x5d8d8c 0x55ea20 0x55cd91 0x5d8941 0x49abe4 0x55cd91 0x5d8941 0x4997c7 0x5d8868 0x5da092 0x586de6 0x5d8cdf 0x55dc1e 0x55cd91 0x5d8941 0x4990ca 0x5d8868 0x4990ca 0x55d078 0x5d8941 0x49abe4 0x55cd91 0x55d743 0x642630 0x6426ae\n",
            "tcmalloc: large alloc 1474560000 bytes == 0xf0730000 @  0x7f969c648001 0x7f9621e3b22f 0x7f9621e9368b 0x7f9621e944f7 0x7f9621f36913 0x5aae14 0x4997c7 0x55cd91 0x5d8941 0x4990ca 0x55d078 0x5d8941 0x49abe4 0x55cd91 0x55d743 0x642630 0x6426ae 0x644b78 0x64511c 0x677e5e 0x678029 0x7f969c243c87 0x5e1baa\n",
            "tcmalloc: large alloc 3153920000 bytes == 0x7f947e030000 @  0x7f969c648001 0x7f9621e3b22f 0x7f9621e9368b 0x7f9621e944f7 0x7f9621f36913 0x5aae14 0x4997c7 0x55cd91 0x5d8941 0x4990ca 0x55d078 0x5d8941 0x49abe4 0x55cd91 0x55d743 0x642630 0x6426ae 0x644b78 0x64511c 0x677e5e 0x678029 0x7f969c243c87 0x5e1baa\n"
          ]
        }
      ]
    },
    {
      "cell_type": "code",
      "source": [
        "!python evaluation.py > ./final_eval/f30k_OUR_SGR_base.txt"
      ],
      "metadata": {
        "colab": {
          "base_uri": "https://localhost:8080/"
        },
        "id": "VSepgDXEsvgq",
        "outputId": "b6bec48d-3982-418a-b3c2-46d36afa0676"
      },
      "execution_count": null,
      "outputs": [
        {
          "output_type": "stream",
          "name": "stdout",
          "text": [
            "tcmalloc: large alloc 1474560000 bytes == 0x90206000 @  0x7f2ec7f8c1e7 0x7f2e4d78114e 0x7f2e4d7da8bf 0x7f2e4d7db4ff 0x7f2e4d8815cd 0x5d80be 0x5d8d8c 0x55ea20 0x55cd91 0x5d8941 0x49abe4 0x55cd91 0x5d8941 0x4997c7 0x5d8868 0x5da092 0x586de6 0x5d8cdf 0x55dc1e 0x55cd91 0x5d8941 0x4990ca 0x5d8868 0x4990ca 0x55d078 0x5d8941 0x49abe4 0x55cd91 0x55d743 0x642630 0x6426ae\n",
            "tcmalloc: large alloc 1474560000 bytes == 0xf076e000 @  0x7f2ec7f8e001 0x7f2e4d78122f 0x7f2e4d7d968b 0x7f2e4d7da4f7 0x7f2e4d87c913 0x5aae14 0x4997c7 0x55cd91 0x5d8941 0x4990ca 0x55d078 0x5d8941 0x49abe4 0x55cd91 0x55d743 0x642630 0x6426ae 0x644b78 0x64511c 0x677e5e 0x678029 0x7f2ec7b89c87 0x5e1baa\n",
            "tcmalloc: large alloc 3153920000 bytes == 0x7f2caa030000 @  0x7f2ec7f8e001 0x7f2e4d78122f 0x7f2e4d7d968b 0x7f2e4d7da4f7 0x7f2e4d87c913 0x5aae14 0x4997c7 0x55cd91 0x5d8941 0x4990ca 0x55d078 0x5d8941 0x49abe4 0x55cd91 0x55d743 0x642630 0x6426ae 0x644b78 0x64511c 0x677e5e 0x678029 0x7f2ec7b89c87 0x5e1baa\n"
          ]
        }
      ]
    },
    {
      "cell_type": "code",
      "source": [
        "!python evaluation.py > ./final_eval/f30k_OUR_SAF_base.txt"
      ],
      "metadata": {
        "colab": {
          "base_uri": "https://localhost:8080/"
        },
        "id": "LaWHLhgmsv26",
        "outputId": "5f8a3323-79de-444f-cd66-f475c8fea153"
      },
      "execution_count": null,
      "outputs": [
        {
          "output_type": "stream",
          "name": "stdout",
          "text": [
            "tcmalloc: large alloc 1474560000 bytes == 0x8f3ba000 @  0x7f96e98001e7 0x7f966eff514e 0x7f966f04e8bf 0x7f966f04f4ff 0x7f966f0f55cd 0x5d80be 0x5d8d8c 0x55ea20 0x55cd91 0x5d8941 0x49abe4 0x55cd91 0x5d8941 0x4997c7 0x5d8868 0x5da092 0x586de6 0x5d8cdf 0x55dc1e 0x55cd91 0x5d8941 0x4990ca 0x5d8868 0x4990ca 0x55d078 0x5d8941 0x49abe4 0x55cd91 0x55d743 0x642630 0x6426ae\n",
            "tcmalloc: large alloc 1474560000 bytes == 0xef9b0000 @  0x7f96e9802001 0x7f966eff522f 0x7f966f04d68b 0x7f966f04e4f7 0x7f966f0f0913 0x5aae14 0x4997c7 0x55cd91 0x5d8941 0x4990ca 0x55d078 0x5d8941 0x49abe4 0x55cd91 0x55d743 0x642630 0x6426ae 0x644b78 0x64511c 0x677e5e 0x678029 0x7f96e93fdc87 0x5e1baa\n",
            "tcmalloc: large alloc 3153920000 bytes == 0x7f94cc030000 @  0x7f96e9802001 0x7f966eff522f 0x7f966f04d68b 0x7f966f04e4f7 0x7f966f0f0913 0x5aae14 0x4997c7 0x55cd91 0x5d8941 0x4990ca 0x55d078 0x5d8941 0x49abe4 0x55cd91 0x55d743 0x642630 0x6426ae 0x644b78 0x64511c 0x677e5e 0x678029 0x7f96e93fdc87 0x5e1baa\n"
          ]
        }
      ]
    },
    {
      "cell_type": "code",
      "source": [
        "#!mkdir SGR_checkpoint_log\n",
        "#!mkdir training_logs"
      ],
      "metadata": {
        "id": "FuguF5eD6vbs"
      },
      "execution_count": null,
      "outputs": []
    },
    {
      "cell_type": "code",
      "source": [
        "#!python train.py --data_name f30k_precomp --num_epochs 40 --lr_update 25 --learning_rate .0003 --module_name SGR > ./training_logs/f30k_SGR_MINE.txt"
      ],
      "metadata": {
        "id": "Swdr2UebLPB0"
      },
      "execution_count": null,
      "outputs": []
    },
    {
      "cell_type": "code",
      "source": [
        "## Edit opts.py before doing this\n",
        "#!python train.py --data_name f30k_precomp --num_epochs 30 --lr_update 15 --learning_rate .0003 --module_name SAF > ./training_logs/f30k_SGR_MINE.txt"
      ],
      "metadata": {
        "colab": {
          "base_uri": "https://localhost:8080/"
        },
        "id": "rE0b-b-RTcxE",
        "outputId": "6a7a0df4-9caa-4a56-c0e1-d0113c5a838c"
      },
      "execution_count": null,
      "outputs": [
        {
          "metadata": {
            "tags": null
          },
          "name": "stdout",
          "output_type": "stream",
          "text": [
            "2022-12-09 00:38:03.861774: I tensorflow/core/util/util.cc:169] oneDNN custom operations are on. You may see slightly different numerical results due to floating-point round-off errors from different computation orders. To turn them off, set the environment variable `TF_ENABLE_ONEDNN_OPTS=0`.\n",
            "tcmalloc: large alloc 8552448000 bytes == 0xb9a4000 @  0x7f7e691971e7 0x7f7dee98c14e 0x7f7dee9e58bf 0x7f7dee9e64ff 0x7f7deea8c5cd 0x5d80be 0x5d8d8c 0x55ea20 0x55cd91 0x5d8941 0x49abe4 0x55cd91 0x5d8941 0x4997c7 0x5d8868 0x5da092 0x586de6 0x5d8cdf 0x55dc1e 0x55cd91 0x5d8941 0x4990ca 0x5d8868 0x4997c7 0x5d8868 0x4990ca 0x55cd91 0x55d743 0x642630 0x6426ae 0x644b78\n",
            "tcmalloc: large alloc 1495203840 bytes == 0x209dec000 @  0x7f7e691971e7 0x7f7dee98c14e 0x7f7dee9e58bf 0x7f7dee9e64ff 0x7f7deea8c5cd 0x5d80be 0x5d8d8c 0x55ea20 0x55cd91 0x5d8941 0x49abe4 0x55cd91 0x5d8941 0x4997c7 0x5d8868 0x5da092 0x586de6 0x5d8cdf 0x55dc1e 0x55cd91 0x5d8941 0x4990ca 0x5d8868 0x4997c7 0x5d8868 0x4990ca 0x55cd91 0x55d743 0x642630 0x6426ae 0x644b78\n",
            "tcmalloc: large alloc 1474560000 bytes == 0x7f7a1a1c0000 @  0x7f7e69199001 0x7f7dee98c22f 0x7f7dee9e468b 0x7f7dee9e54f7 0x7f7deea87913 0x5aae14 0x4997c7 0x55cd91 0x5d8941 0x4990ca 0x55d078 0x5d8941 0x4990ca 0x5d8868 0x4990ca 0x5d8868 0x4990ca 0x55cd91 0x55d743 0x642630 0x6426ae 0x644b78 0x64511c 0x677e5e 0x678029 0x7f7e68d94c87 0x5e1baa\n",
            "tcmalloc: large alloc 2867200000 bytes == 0x7f796f360000 @  0x7f7e69199001 0x7f7dee98c22f 0x7f7dee9e468b 0x7f7dee9e54f7 0x7f7deea87913 0x5aae14 0x4997c7 0x55cd91 0x5d8941 0x4990ca 0x55d078 0x5d8941 0x4990ca 0x5d8868 0x4990ca 0x5d8868 0x4990ca 0x55cd91 0x55d743 0x642630 0x6426ae 0x644b78 0x64511c 0x677e5e 0x678029 0x7f7e68d94c87 0x5e1baa\n",
            "tcmalloc: large alloc 2867200000 bytes == 0x7f79b2bd8000 @  0x7f7e69199001 0x7f7dee98c22f 0x7f7dee9e468b 0x7f7dee9e54f7 0x7f7deea87913 0x5aae14 0x4997c7 0x55cd91 0x5d8941 0x4990ca 0x55d078 0x5d8941 0x4990ca 0x5d8868 0x4990ca 0x55cd91 0x55d743 0x642630 0x6426ae 0x644b78 0x64511c 0x677e5e 0x678029 0x7f7e68d94c87 0x5e1baa\n",
            "tcmalloc: large alloc 2867200000 bytes == 0x7f79b2bd8000 @  0x7f7e69199001 0x7f7dee98c22f 0x7f7dee9e468b 0x7f7dee9e54f7 0x7f7deea87913 0x5aae14 0x4997c7 0x55cd91 0x5d8941 0x4990ca 0x55d078 0x5d8941 0x4990ca 0x5d8868 0x4990ca 0x5d8868 0x4990ca 0x55cd91 0x55d743 0x642630 0x6426ae 0x644b78 0x64511c 0x677e5e 0x678029 0x7f7e68d94c87 0x5e1baa\n",
            "tcmalloc: large alloc 2867200000 bytes == 0x7f79b2bd8000 @  0x7f7e69199001 0x7f7dee98c22f 0x7f7dee9e468b 0x7f7dee9e54f7 0x7f7deea87913 0x5aae14 0x4997c7 0x55cd91 0x5d8941 0x4990ca 0x55d078 0x5d8941 0x4990ca 0x5d8868 0x4990ca 0x55cd91 0x55d743 0x642630 0x6426ae 0x644b78 0x64511c 0x677e5e 0x678029 0x7f7e68d94c87 0x5e1baa\n",
            "tcmalloc: large alloc 2867200000 bytes == 0x7f79b2bd8000 @  0x7f7e69199001 0x7f7dee98c22f 0x7f7dee9e468b 0x7f7dee9e54f7 0x7f7deea87913 0x5aae14 0x4997c7 0x55cd91 0x5d8941 0x4990ca 0x55d078 0x5d8941 0x4990ca 0x5d8868 0x4990ca 0x5d8868 0x4990ca 0x55cd91 0x55d743 0x642630 0x6426ae 0x644b78 0x64511c 0x677e5e 0x678029 0x7f7e68d94c87 0x5e1baa\n",
            "tcmalloc: large alloc 2867200000 bytes == 0x7f79b2bd8000 @  0x7f7e69199001 0x7f7dee98c22f 0x7f7dee9e468b 0x7f7dee9e54f7 0x7f7deea87913 0x5aae14 0x4997c7 0x55cd91 0x5d8941 0x4990ca 0x55d078 0x5d8941 0x4990ca 0x5d8868 0x4990ca 0x55cd91 0x55d743 0x642630 0x6426ae 0x644b78 0x64511c 0x677e5e 0x678029 0x7f7e68d94c87 0x5e1baa\n"
          ]
        }
      ]
    },
    {
      "cell_type": "code",
      "source": [
        "!zip -r /content/SGRAF-python3.6/baseline_eval.zip /content/SGRAF-python3.6/baseline_evaluation\n",
        "!zip -r /content/SGRAF-python3.6/final_eval.zip /content/SGRAF-python3.6/final_eval\n",
        "#!zip -r /content/SGRAF-python3.6/training_log.zip /content/SGRAF-python3.6/training_logs"
      ],
      "metadata": {
        "colab": {
          "base_uri": "https://localhost:8080/"
        },
        "id": "8DE_cQe0QiUe",
        "outputId": "587fd249-fdbc-4312-f96f-2d21d5b852c4"
      },
      "execution_count": null,
      "outputs": [
        {
          "output_type": "stream",
          "name": "stdout",
          "text": [
            "  adding: content/SGRAF-python3.6/baseline_evaluation/ (stored 0%)\n",
            "  adding: content/SGRAF-python3.6/baseline_evaluation/f30k_SGR_base.txt (deflated 90%)\n",
            "  adding: content/SGRAF-python3.6/baseline_evaluation/f30k_SAF_base.txt (deflated 90%)\n",
            "updating: content/SGRAF-python3.6/final_eval/ (stored 0%)\n",
            "updating: content/SGRAF-python3.6/final_eval/f30k_OUR_SGR_base.txt (deflated 90%)\n",
            "updating: content/SGRAF-python3.6/final_eval/f30k_OUR_SAF_base.txt (deflated 90%)\n",
            "updating: content/SGRAF-python3.6/final_eval/f30k_SGR_base.txt (deflated 90%)\n",
            "updating: content/SGRAF-python3.6/final_eval/f30k_SAF_base.txt (deflated 90%)\n"
          ]
        }
      ]
    },
    {
      "cell_type": "code",
      "source": [
        "from google.colab import files\n",
        "files.download(\"/content/SGRAF-python3.6/final_eval.zip\")\n",
        "files.download(\"/content/SGRAF-python3.6/baseline_eval.zip\")\n",
        "#files.download(\"/content/SGRAF-python3.6/SAF_checkpoint/model_best.pth.tar\")"
      ],
      "metadata": {
        "colab": {
          "base_uri": "https://localhost:8080/",
          "height": 17
        },
        "id": "v5vZWpQRRIxB",
        "outputId": "82336e4d-fbc1-42ef-be1b-a1338c0bffe9"
      },
      "execution_count": null,
      "outputs": [
        {
          "output_type": "display_data",
          "data": {
            "text/plain": [
              "<IPython.core.display.Javascript object>"
            ],
            "application/javascript": [
              "\n",
              "    async function download(id, filename, size) {\n",
              "      if (!google.colab.kernel.accessAllowed) {\n",
              "        return;\n",
              "      }\n",
              "      const div = document.createElement('div');\n",
              "      const label = document.createElement('label');\n",
              "      label.textContent = `Downloading \"${filename}\": `;\n",
              "      div.appendChild(label);\n",
              "      const progress = document.createElement('progress');\n",
              "      progress.max = size;\n",
              "      div.appendChild(progress);\n",
              "      document.body.appendChild(div);\n",
              "\n",
              "      const buffers = [];\n",
              "      let downloaded = 0;\n",
              "\n",
              "      const channel = await google.colab.kernel.comms.open(id);\n",
              "      // Send a message to notify the kernel that we're ready.\n",
              "      channel.send({})\n",
              "\n",
              "      for await (const message of channel.messages) {\n",
              "        // Send a message to notify the kernel that we're ready.\n",
              "        channel.send({})\n",
              "        if (message.buffers) {\n",
              "          for (const buffer of message.buffers) {\n",
              "            buffers.push(buffer);\n",
              "            downloaded += buffer.byteLength;\n",
              "            progress.value = downloaded;\n",
              "          }\n",
              "        }\n",
              "      }\n",
              "      const blob = new Blob(buffers, {type: 'application/binary'});\n",
              "      const a = document.createElement('a');\n",
              "      a.href = window.URL.createObjectURL(blob);\n",
              "      a.download = filename;\n",
              "      div.appendChild(a);\n",
              "      a.click();\n",
              "      div.remove();\n",
              "    }\n",
              "  "
            ]
          },
          "metadata": {}
        },
        {
          "output_type": "display_data",
          "data": {
            "text/plain": [
              "<IPython.core.display.Javascript object>"
            ],
            "application/javascript": [
              "download(\"download_bcbc7337-d2bd-4b68-b1db-cce4f2413544\", \"final_eval.zip\", 8145)"
            ]
          },
          "metadata": {}
        },
        {
          "output_type": "display_data",
          "data": {
            "text/plain": [
              "<IPython.core.display.Javascript object>"
            ],
            "application/javascript": [
              "\n",
              "    async function download(id, filename, size) {\n",
              "      if (!google.colab.kernel.accessAllowed) {\n",
              "        return;\n",
              "      }\n",
              "      const div = document.createElement('div');\n",
              "      const label = document.createElement('label');\n",
              "      label.textContent = `Downloading \"${filename}\": `;\n",
              "      div.appendChild(label);\n",
              "      const progress = document.createElement('progress');\n",
              "      progress.max = size;\n",
              "      div.appendChild(progress);\n",
              "      document.body.appendChild(div);\n",
              "\n",
              "      const buffers = [];\n",
              "      let downloaded = 0;\n",
              "\n",
              "      const channel = await google.colab.kernel.comms.open(id);\n",
              "      // Send a message to notify the kernel that we're ready.\n",
              "      channel.send({})\n",
              "\n",
              "      for await (const message of channel.messages) {\n",
              "        // Send a message to notify the kernel that we're ready.\n",
              "        channel.send({})\n",
              "        if (message.buffers) {\n",
              "          for (const buffer of message.buffers) {\n",
              "            buffers.push(buffer);\n",
              "            downloaded += buffer.byteLength;\n",
              "            progress.value = downloaded;\n",
              "          }\n",
              "        }\n",
              "      }\n",
              "      const blob = new Blob(buffers, {type: 'application/binary'});\n",
              "      const a = document.createElement('a');\n",
              "      a.href = window.URL.createObjectURL(blob);\n",
              "      a.download = filename;\n",
              "      div.appendChild(a);\n",
              "      a.click();\n",
              "      div.remove();\n",
              "    }\n",
              "  "
            ]
          },
          "metadata": {}
        },
        {
          "output_type": "display_data",
          "data": {
            "text/plain": [
              "<IPython.core.display.Javascript object>"
            ],
            "application/javascript": [
              "download(\"download_a4cc4f8e-b41e-4324-b245-5f570a620e68\", \"baseline_eval.zip\", 4288)"
            ]
          },
          "metadata": {}
        }
      ]
    },
    {
      "cell_type": "code",
      "source": [
        "#!mkdir our_eval"
      ],
      "metadata": {
        "id": "hfk8lxEeGOI_"
      },
      "execution_count": null,
      "outputs": []
    },
    {
      "cell_type": "markdown",
      "source": [
        "Repo: https://github.com/Paranioar/SGRAF"
      ],
      "metadata": {
        "id": "XPIWyEEQ30YQ"
      }
    }
  ]
}